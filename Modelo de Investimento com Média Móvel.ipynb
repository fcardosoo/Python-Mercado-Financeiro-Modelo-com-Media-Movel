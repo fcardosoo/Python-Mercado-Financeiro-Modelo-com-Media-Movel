{
 "cells": [
  {
   "cell_type": "markdown",
   "id": "02888475",
   "metadata": {},
   "source": [
    "# Modelo de Média Móvel"
   ]
  },
  {
   "cell_type": "markdown",
   "id": "025861fa",
   "metadata": {},
   "source": [
    "## 1.0 Bibliotecas"
   ]
  },
  {
   "cell_type": "code",
   "execution_count": 1,
   "id": "1fa6a650",
   "metadata": {},
   "outputs": [],
   "source": [
    "import yfinance   as yf\n",
    "import pandas     as pd"
   ]
  },
  {
   "cell_type": "markdown",
   "id": "20efda33",
   "metadata": {},
   "source": [
    "## 2.0 Adquirindo os dados"
   ]
  },
  {
   "cell_type": "code",
   "execution_count": null,
   "id": "74a8905a",
   "metadata": {},
   "outputs": [],
   "source": [
    "# Baixe os dados históricos da ação PETR4\n",
    "petr4 = yf.download('PETR4.SA', start='2010-01-01')\n",
    "\n",
    "# Crie uma coluna com a média móvel dos preços de fechamento da ação PETR4\n",
    "petr4['MA'] = petr4['Close'].rolling(window=20).mean()\n",
    "\n",
    "# Plote um gráfico com os preços de fechamento e a média móvel\n",
    "petr4[['Close', 'MA']].plot(figsize=(10, 5))\n"
   ]
  }
 ],
 "metadata": {
  "kernelspec": {
   "display_name": "Python 3 (ipykernel)",
   "language": "python",
   "name": "python3"
  },
  "language_info": {
   "codemirror_mode": {
    "name": "ipython",
    "version": 3
   },
   "file_extension": ".py",
   "mimetype": "text/x-python",
   "name": "python",
   "nbconvert_exporter": "python",
   "pygments_lexer": "ipython3",
   "version": "3.10.9"
  }
 },
 "nbformat": 4,
 "nbformat_minor": 5
}
